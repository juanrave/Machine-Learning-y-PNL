{
 "cells": [
  {
   "cell_type": "markdown",
   "metadata": {},
   "source": [
    "![image info](https://raw.githubusercontent.com/albahnsen/MIAD_ML_and_NLP/main/images/banner_1.png)"
   ]
  },
  {
   "cell_type": "markdown",
   "metadata": {},
   "source": [
    "# Taller: Construcción e implementación de modelos Bagging, Random Forest y XGBoost\n",
    "\n",
    "En este taller podrán poner en práctica sus conocimientos sobre la construcción e implementación de modelos de Bagging, Random Forest y XGBoost. El taller está constituido por 8 puntos, en los cuales deberan seguir las intrucciones de cada numeral para su desarrollo."
   ]
  },
  {
   "cell_type": "markdown",
   "metadata": {},
   "source": [
    "## Datos predicción precio de automóviles\n",
    "\n",
    "En este taller se usará el conjunto de datos de Car Listings de Kaggle donde cada observación representa el precio de un automóvil teniendo en cuenta distintas variables como año, marca, modelo, entre otras. El objetivo es predecir el precio del automóvil. Para más detalles puede visitar el siguiente enlace: [datos](https://www.kaggle.com/jpayne/852k-used-car-listings)."
   ]
  },
  {
   "cell_type": "code",
   "execution_count": 1,
   "metadata": {},
   "outputs": [],
   "source": [
    "import warnings\n",
    "warnings.filterwarnings('ignore')"
   ]
  },
  {
   "cell_type": "code",
   "execution_count": 2,
   "metadata": {},
   "outputs": [],
   "source": [
    "#!pip install pandas==1.0.3"
   ]
  },
  {
   "cell_type": "code",
   "execution_count": 3,
   "metadata": {},
   "outputs": [
    {
     "data": {
      "text/html": [
       "<div>\n",
       "<style scoped>\n",
       "    .dataframe tbody tr th:only-of-type {\n",
       "        vertical-align: middle;\n",
       "    }\n",
       "\n",
       "    .dataframe tbody tr th {\n",
       "        vertical-align: top;\n",
       "    }\n",
       "\n",
       "    .dataframe thead th {\n",
       "        text-align: right;\n",
       "    }\n",
       "</style>\n",
       "<table border=\"1\" class=\"dataframe\">\n",
       "  <thead>\n",
       "    <tr style=\"text-align: right;\">\n",
       "      <th></th>\n",
       "      <th>Price</th>\n",
       "      <th>Year</th>\n",
       "      <th>Mileage</th>\n",
       "      <th>M_Camry</th>\n",
       "      <th>M_Camry4dr</th>\n",
       "      <th>M_CamryBase</th>\n",
       "      <th>M_CamryL</th>\n",
       "      <th>M_CamryLE</th>\n",
       "      <th>M_CamrySE</th>\n",
       "      <th>M_CamryXLE</th>\n",
       "    </tr>\n",
       "  </thead>\n",
       "  <tbody>\n",
       "    <tr>\n",
       "      <th>7</th>\n",
       "      <td>21995</td>\n",
       "      <td>2014</td>\n",
       "      <td>6480</td>\n",
       "      <td>0</td>\n",
       "      <td>0</td>\n",
       "      <td>0</td>\n",
       "      <td>1</td>\n",
       "      <td>0</td>\n",
       "      <td>0</td>\n",
       "      <td>0</td>\n",
       "    </tr>\n",
       "    <tr>\n",
       "      <th>11</th>\n",
       "      <td>13995</td>\n",
       "      <td>2014</td>\n",
       "      <td>39972</td>\n",
       "      <td>0</td>\n",
       "      <td>0</td>\n",
       "      <td>0</td>\n",
       "      <td>0</td>\n",
       "      <td>1</td>\n",
       "      <td>0</td>\n",
       "      <td>0</td>\n",
       "    </tr>\n",
       "    <tr>\n",
       "      <th>167</th>\n",
       "      <td>17941</td>\n",
       "      <td>2016</td>\n",
       "      <td>18989</td>\n",
       "      <td>0</td>\n",
       "      <td>0</td>\n",
       "      <td>0</td>\n",
       "      <td>0</td>\n",
       "      <td>0</td>\n",
       "      <td>1</td>\n",
       "      <td>0</td>\n",
       "    </tr>\n",
       "    <tr>\n",
       "      <th>225</th>\n",
       "      <td>12493</td>\n",
       "      <td>2014</td>\n",
       "      <td>51330</td>\n",
       "      <td>0</td>\n",
       "      <td>0</td>\n",
       "      <td>0</td>\n",
       "      <td>1</td>\n",
       "      <td>0</td>\n",
       "      <td>0</td>\n",
       "      <td>0</td>\n",
       "    </tr>\n",
       "    <tr>\n",
       "      <th>270</th>\n",
       "      <td>7994</td>\n",
       "      <td>2007</td>\n",
       "      <td>116065</td>\n",
       "      <td>0</td>\n",
       "      <td>1</td>\n",
       "      <td>0</td>\n",
       "      <td>0</td>\n",
       "      <td>0</td>\n",
       "      <td>0</td>\n",
       "      <td>0</td>\n",
       "    </tr>\n",
       "  </tbody>\n",
       "</table>\n",
       "</div>"
      ],
      "text/plain": [
       "     Price  Year  Mileage  M_Camry  M_Camry4dr  M_CamryBase  M_CamryL  \\\n",
       "7    21995  2014     6480        0           0            0         1   \n",
       "11   13995  2014    39972        0           0            0         0   \n",
       "167  17941  2016    18989        0           0            0         0   \n",
       "225  12493  2014    51330        0           0            0         1   \n",
       "270   7994  2007   116065        0           1            0         0   \n",
       "\n",
       "     M_CamryLE  M_CamrySE  M_CamryXLE  \n",
       "7            0          0           0  \n",
       "11           1          0           0  \n",
       "167          0          1           0  \n",
       "225          0          0           0  \n",
       "270          0          0           0  "
      ]
     },
     "execution_count": 3,
     "metadata": {},
     "output_type": "execute_result"
    }
   ],
   "source": [
    "# Importación de librerías\n",
    "%matplotlib inline\n",
    "import pandas as pd\n",
    "\n",
    "# Lectura de la información de archivo .csv\n",
    "data = pd.read_csv('https://raw.githubusercontent.com/albahnsen/MIAD_ML_and_NLP/main/datasets/dataTrain_carListings.zip')\n",
    "\n",
    "# Preprocesamiento de datos para el taller\n",
    "data = data.loc[data['Model'].str.contains('Camry')].drop(['Make', 'State'], axis=1)\n",
    "data = data.join(pd.get_dummies(data['Model'], prefix='M'))\n",
    "data = data.drop(['Model'], axis=1)\n",
    "\n",
    "# Visualización dataset\n",
    "data.head()"
   ]
  },
  {
   "cell_type": "code",
   "execution_count": 4,
   "metadata": {},
   "outputs": [
    {
     "data": {
      "text/html": [
       "<div>\n",
       "<style scoped>\n",
       "    .dataframe tbody tr th:only-of-type {\n",
       "        vertical-align: middle;\n",
       "    }\n",
       "\n",
       "    .dataframe tbody tr th {\n",
       "        vertical-align: top;\n",
       "    }\n",
       "\n",
       "    .dataframe thead th {\n",
       "        text-align: right;\n",
       "    }\n",
       "</style>\n",
       "<table border=\"1\" class=\"dataframe\">\n",
       "  <thead>\n",
       "    <tr style=\"text-align: right;\">\n",
       "      <th></th>\n",
       "      <th>Price</th>\n",
       "      <th>Year</th>\n",
       "      <th>Mileage</th>\n",
       "      <th>M_Camry</th>\n",
       "      <th>M_Camry4dr</th>\n",
       "      <th>M_CamryBase</th>\n",
       "      <th>M_CamryL</th>\n",
       "      <th>M_CamryLE</th>\n",
       "      <th>M_CamrySE</th>\n",
       "      <th>M_CamryXLE</th>\n",
       "    </tr>\n",
       "  </thead>\n",
       "  <tbody>\n",
       "    <tr>\n",
       "      <th>count</th>\n",
       "      <td>10495.000000</td>\n",
       "      <td>10495.000000</td>\n",
       "      <td>10495.000000</td>\n",
       "      <td>10495.000000</td>\n",
       "      <td>10495.000000</td>\n",
       "      <td>10495.000000</td>\n",
       "      <td>10495.000000</td>\n",
       "      <td>10495.000000</td>\n",
       "      <td>10495.000000</td>\n",
       "      <td>10495.000000</td>\n",
       "    </tr>\n",
       "    <tr>\n",
       "      <th>mean</th>\n",
       "      <td>14538.403716</td>\n",
       "      <td>2013.553883</td>\n",
       "      <td>52509.430395</td>\n",
       "      <td>0.056313</td>\n",
       "      <td>0.158456</td>\n",
       "      <td>0.012292</td>\n",
       "      <td>0.048213</td>\n",
       "      <td>0.236494</td>\n",
       "      <td>0.376370</td>\n",
       "      <td>0.111863</td>\n",
       "    </tr>\n",
       "    <tr>\n",
       "      <th>std</th>\n",
       "      <td>3922.420961</td>\n",
       "      <td>3.116585</td>\n",
       "      <td>36791.736601</td>\n",
       "      <td>0.230535</td>\n",
       "      <td>0.365186</td>\n",
       "      <td>0.110189</td>\n",
       "      <td>0.214227</td>\n",
       "      <td>0.424949</td>\n",
       "      <td>0.484498</td>\n",
       "      <td>0.315213</td>\n",
       "    </tr>\n",
       "    <tr>\n",
       "      <th>min</th>\n",
       "      <td>5002.000000</td>\n",
       "      <td>1998.000000</td>\n",
       "      <td>5.000000</td>\n",
       "      <td>0.000000</td>\n",
       "      <td>0.000000</td>\n",
       "      <td>0.000000</td>\n",
       "      <td>0.000000</td>\n",
       "      <td>0.000000</td>\n",
       "      <td>0.000000</td>\n",
       "      <td>0.000000</td>\n",
       "    </tr>\n",
       "    <tr>\n",
       "      <th>25%</th>\n",
       "      <td>11999.000000</td>\n",
       "      <td>2012.000000</td>\n",
       "      <td>26461.000000</td>\n",
       "      <td>0.000000</td>\n",
       "      <td>0.000000</td>\n",
       "      <td>0.000000</td>\n",
       "      <td>0.000000</td>\n",
       "      <td>0.000000</td>\n",
       "      <td>0.000000</td>\n",
       "      <td>0.000000</td>\n",
       "    </tr>\n",
       "    <tr>\n",
       "      <th>50%</th>\n",
       "      <td>15000.000000</td>\n",
       "      <td>2014.000000</td>\n",
       "      <td>41680.000000</td>\n",
       "      <td>0.000000</td>\n",
       "      <td>0.000000</td>\n",
       "      <td>0.000000</td>\n",
       "      <td>0.000000</td>\n",
       "      <td>0.000000</td>\n",
       "      <td>0.000000</td>\n",
       "      <td>0.000000</td>\n",
       "    </tr>\n",
       "    <tr>\n",
       "      <th>75%</th>\n",
       "      <td>16999.000000</td>\n",
       "      <td>2016.000000</td>\n",
       "      <td>71355.500000</td>\n",
       "      <td>0.000000</td>\n",
       "      <td>0.000000</td>\n",
       "      <td>0.000000</td>\n",
       "      <td>0.000000</td>\n",
       "      <td>0.000000</td>\n",
       "      <td>1.000000</td>\n",
       "      <td>0.000000</td>\n",
       "    </tr>\n",
       "    <tr>\n",
       "      <th>max</th>\n",
       "      <td>32444.000000</td>\n",
       "      <td>2018.000000</td>\n",
       "      <td>232658.000000</td>\n",
       "      <td>1.000000</td>\n",
       "      <td>1.000000</td>\n",
       "      <td>1.000000</td>\n",
       "      <td>1.000000</td>\n",
       "      <td>1.000000</td>\n",
       "      <td>1.000000</td>\n",
       "      <td>1.000000</td>\n",
       "    </tr>\n",
       "  </tbody>\n",
       "</table>\n",
       "</div>"
      ],
      "text/plain": [
       "              Price          Year        Mileage       M_Camry    M_Camry4dr  \\\n",
       "count  10495.000000  10495.000000   10495.000000  10495.000000  10495.000000   \n",
       "mean   14538.403716   2013.553883   52509.430395      0.056313      0.158456   \n",
       "std     3922.420961      3.116585   36791.736601      0.230535      0.365186   \n",
       "min     5002.000000   1998.000000       5.000000      0.000000      0.000000   \n",
       "25%    11999.000000   2012.000000   26461.000000      0.000000      0.000000   \n",
       "50%    15000.000000   2014.000000   41680.000000      0.000000      0.000000   \n",
       "75%    16999.000000   2016.000000   71355.500000      0.000000      0.000000   \n",
       "max    32444.000000   2018.000000  232658.000000      1.000000      1.000000   \n",
       "\n",
       "        M_CamryBase      M_CamryL     M_CamryLE     M_CamrySE    M_CamryXLE  \n",
       "count  10495.000000  10495.000000  10495.000000  10495.000000  10495.000000  \n",
       "mean       0.012292      0.048213      0.236494      0.376370      0.111863  \n",
       "std        0.110189      0.214227      0.424949      0.484498      0.315213  \n",
       "min        0.000000      0.000000      0.000000      0.000000      0.000000  \n",
       "25%        0.000000      0.000000      0.000000      0.000000      0.000000  \n",
       "50%        0.000000      0.000000      0.000000      0.000000      0.000000  \n",
       "75%        0.000000      0.000000      0.000000      1.000000      0.000000  \n",
       "max        1.000000      1.000000      1.000000      1.000000      1.000000  "
      ]
     },
     "execution_count": 4,
     "metadata": {},
     "output_type": "execute_result"
    }
   ],
   "source": [
    "data.describe()"
   ]
  },
  {
   "cell_type": "code",
   "execution_count": 5,
   "metadata": {},
   "outputs": [],
   "source": [
    "# Separación de variables predictoras (X) y variable de interés (y)\n",
    "y = data['Price']\n",
    "X = data.drop(['Price'], axis=1)"
   ]
  },
  {
   "cell_type": "code",
   "execution_count": 6,
   "metadata": {},
   "outputs": [],
   "source": [
    "# Separación de datos en set de entrenamiento y test\n",
    "from sklearn.model_selection import train_test_split\n",
    "X_train, X_test, y_train, y_test = train_test_split(X, y, test_size=0.33, random_state=42)"
   ]
  },
  {
   "cell_type": "markdown",
   "metadata": {},
   "source": [
    "### Punto 1 - Árbol de decisión manual\n",
    "\n",
    "En la celda 1 creen un árbol de decisión **manualmente**  que considere los set de entrenamiento y test definidos anteriormente y presenten el RMSE y MAE del modelo en el set de test."
   ]
  },
  {
   "cell_type": "code",
   "execution_count": 7,
   "metadata": {},
   "outputs": [
    {
     "name": "stdout",
     "output_type": "stream",
     "text": [
      "RMSE 3286.6987056698804\n",
      "MAE 2629.174937481449\n"
     ]
    }
   ],
   "source": [
    "# Celda 1\n",
    "import math\n",
    "import numpy as np\n",
    "from sklearn.metrics import mean_absolute_error\n",
    "from sklearn.metrics import mean_squared_error\n",
    "\n",
    "def gini(y):\n",
    "    if y.shape[0] == 0:\n",
    "        return 0\n",
    "    else:\n",
    "        n = len(y)\n",
    "        r = y - mean()\n",
    "        r = r ** 2\n",
    "        r = np.sum(r)\n",
    "        return r/n\n",
    "\n",
    "# Definición de la función gini_imputiry para calular la ganancia de una variable predictora j dado el punto de corte k\n",
    "def gini_impurity(X_col, y, split):\n",
    "    \n",
    "    filter_l = X_col < split\n",
    "    y_l = y.loc[filter_l]\n",
    "    y_r = y.loc[~filter_l]\n",
    "    \n",
    "    n_l = y_l.shape[0]\n",
    "    n_r = y_r.shape[0]\n",
    "    \n",
    "    gini_y = gini(y)\n",
    "    gini_l = gini(y_l)\n",
    "    gini_r = gini(y_r)\n",
    "    \n",
    "    gini_impurity_ = gini_y - (n_l / (n_l + n_r) * gini_l + n_r / (n_l + n_r) * gini_r)\n",
    "    \n",
    "    return gini_impurity_\n",
    "\n",
    "def mse_split (X_col, y, split):\n",
    "    filter_l = X_col < split\n",
    "    y_l = y.loc[filter_l]\n",
    "    y_r = y.loc[~filter_l]\n",
    "    \n",
    "    left_mean = np.mean(y_l)\n",
    "    right_mean = np.mean(y_r)\n",
    "\n",
    "    # Getting the left and right residuals \n",
    "    res_left = y_l - left_mean \n",
    "    res_right = y_r - right_mean\n",
    "\n",
    "    # Concatenating the residuals \n",
    "    r = np.concatenate((res_left, res_right), axis=None)\n",
    "\n",
    "    # Calculating the mse \n",
    "    n = len(r)\n",
    "    r = r ** 2\n",
    "    r = np.sum(r)\n",
    "    mse_split = r / n\n",
    "    return mse_split\n",
    "    \n",
    "\n",
    "# Definición de la función best_split para calcular cuál es la mejor variable y punto de cortepara hacer la bifurcación del árbol\n",
    "def best_split(X, y, num_pct=10):\n",
    "    \n",
    "    features = range(X.shape[1])\n",
    "    \n",
    "    best_split = [0, 0, 0]  # j, split, gain\n",
    "    \n",
    "    # Para todas las varibles \n",
    "    for j in features:\n",
    "        \n",
    "        splits = np.percentile(X.iloc[:, j], np.arange(0, 100, 100.0 / (num_pct+1)).tolist())\n",
    "        splits = np.unique(splits)[1:]\n",
    "        \n",
    "        # Para cada partición\n",
    "        for split in splits:\n",
    "            #gain = gini_impurity(X.iloc[:, j], y, split)\n",
    "            mse = mse_split(X.iloc[:, j], y, split)\n",
    "            \n",
    "            if mse > best_split[2]:\n",
    "                best_split = [j, split, mse]\n",
    "    \n",
    "    return best_split\n",
    "\n",
    "\n",
    "# Definición de la función tree_grow para hacer un crecimiento recursivo del árbol\n",
    "def tree_grow(X, y, level=0, min_gain=0.001, max_depth=None, num_pct=10):\n",
    "    \n",
    "    # Si solo es una observación\n",
    "    #if X.shape[0] == 1:\n",
    "    #    tree = dict(y_pred=y.iloc[:1].values[0], y_prob=0.5, level=level, split=-1, n_samples=1, gain=0)\n",
    "    #    return tree\n",
    "    \n",
    "    # Calcular la mejor división\n",
    "    j, split, mse = best_split(X, y, num_pct)\n",
    "    \n",
    "    #left_df, right_df = df[df[j]<=split].copy(), df[df[j]>split].copy()\n",
    "    \n",
    "    # Guardar el árbol y estimar la predicción\n",
    "    #filter_l = j < split\n",
    "    #y_l = y.loc[filter_l]\n",
    "    y_pred = y.mean() \n",
    "    #y_prob = (y.sum() + 1.0) / (y.shape[0] + 2.0)  # Corrección Laplace \n",
    "    \n",
    "    #tree = dict(y_pred=y_pred, y_prob=y_prob, level=level, split=-1, n_samples=X.shape[0], mse=mse)\n",
    "    tree = dict(y_pred=y_pred, level=level, split=-1, n_samples=X.shape[0], mse=mse) \n",
    "    # Revisar el criterio de parada \n",
    "    if mse < min_gain:\n",
    "        return tree\n",
    "    if max_depth is not None:\n",
    "        if level >= max_depth:\n",
    "            return tree   \n",
    "    \n",
    "    # Continuar creando la partición\n",
    "    filter_l = X.iloc[:, j] < split\n",
    "    X_l, y_l = X.loc[filter_l], y.loc[filter_l]\n",
    "    X_r, y_r = X.loc[~filter_l], y.loc[~filter_l]\n",
    "    tree['split'] = [j, split]\n",
    "\n",
    "    # Siguiente iteración para cada partición\n",
    "    \n",
    "    tree['sl'] = tree_grow(X_l, y_l, level + 1, min_gain=min_gain, max_depth=max_depth, num_pct=num_pct)\n",
    "    tree['sr'] = tree_grow(X_r, y_r, level + 1, min_gain=min_gain, max_depth=max_depth, num_pct=num_pct)\n",
    "    \n",
    "    return tree\n",
    "\n",
    "def tree_predict(X, tree, proba=False):\n",
    "    \n",
    "    predicted = np.ones(X.shape[0])\n",
    "\n",
    "    # Revisar si es el nodo final\n",
    "    if tree['split'] == -1:\n",
    "        if not proba:\n",
    "            predicted = predicted * tree['y_pred']\n",
    "        else:\n",
    "            predicted = predicted * tree['y_prob']\n",
    "            \n",
    "    else:\n",
    "        \n",
    "        j, split = tree['split']\n",
    "        filter_l = (X.iloc[:, j] < split)\n",
    "        X_l = X.loc[filter_l]\n",
    "        X_r = X.loc[~filter_l]\n",
    "\n",
    "        if X_l.shape[0] == 0:  # Si el nodo izquierdo está vacio solo continua con el derecho \n",
    "            predicted[~filter_l] = tree_predict(X_r, tree['sr'], proba)\n",
    "        elif X_r.shape[0] == 0:  #  Si el nodo derecho está vacio solo continua con el izquierdo\n",
    "            predicted[filter_l] = tree_predict(X_l, tree['sl'], proba)\n",
    "        else:\n",
    "            predicted[filter_l] = tree_predict(X_l, tree['sl'], proba)\n",
    "            predicted[~filter_l] = tree_predict(X_r, tree['sr'], proba)\n",
    "\n",
    "    return predicted\n",
    "\n",
    "# Definición de parámetros y criterios de parada\n",
    "max_depth = 5\n",
    "num_pct = 10\n",
    "max_features = None\n",
    "min_gain=0.001\n",
    "\n",
    "modelo = tree_grow(X_train, y_train, level=0, min_gain=min_gain, max_depth=max_depth, num_pct=num_pct)\n",
    "y_pred = tree_predict(X_test, modelo)\n",
    "\n",
    "print(\"RMSE\", math.sqrt(mean_squared_error(y_test, y_pred)))\n",
    "print(\"MAE\", mean_absolute_error(y_test, y_pred))"
   ]
  },
  {
   "cell_type": "markdown",
   "metadata": {},
   "source": [
    "### Punto 2 - Bagging manual\n",
    "\n",
    "En la celda 2 creen un modelo bagging **manualmente** con 10 árboles de regresión y comenten sobre el desempeño del modelo."
   ]
  },
  {
   "cell_type": "code",
   "execution_count": 8,
   "metadata": {},
   "outputs": [
    {
     "name": "stdout",
     "output_type": "stream",
     "text": [
      "RMSE 6205.986438251428\n",
      "MAE 5380.526496407133\n",
      "\n",
      "listado de MAE [5631.609772493478, 5874.59479551082, 5099.768858253261, 4381.882048063727, 6379.968782278552, 6004.33585035117, 4982.090709363877, 4987.920265640373, 5545.358625206337, 4917.735256909733]\n"
     ]
    }
   ],
   "source": [
    "# Celda 2\n",
    "MSE_scores = []\n",
    "MAE_scores = []\n",
    "\n",
    "n_samples = X_train.shape[0]\n",
    "n_B = 10\n",
    "\n",
    "samples = [np.random.choice(a=n_samples, size=n_samples, replace=True) for _ in range(1, n_B +1 )]\n",
    "\n",
    "for i, sample in enumerate(samples):\n",
    "    _X_train = X_train.iloc[sample, 1:]\n",
    "    _y_train = y_train.iloc[sample]\n",
    "    \n",
    "    modelo = tree_grow(_X_train, _y_train, level=0, min_gain=min_gain, max_depth=max_depth, num_pct=num_pct)\n",
    "    y_pred = tree_predict(X_test, modelo)\n",
    "    \n",
    "    MSE_scores.append(math.sqrt(mean_squared_error(y_test, y_pred)))\n",
    "    MAE_scores.append(mean_absolute_error(y_test, y_pred))\n",
    "\n",
    "print(\"RMSE\", np.mean(MSE_scores))\n",
    "print(\"MAE\", np.mean(MAE_scores))\n",
    "\n",
    "print()\n",
    "print(\"listado de MAE\", MAE_scores)\n"
   ]
  },
  {
   "cell_type": "markdown",
   "metadata": {},
   "source": [
    "Para este caso el Bagging manual no obtuvo un buen resultado con respecto al arbol implementado en el punto anterior, el valor del RMSE del arbol fue: 3283.223494663697 contra el RMSE del bagging manual el cual alcanzo: 6375.119929123241, problema posiblemente casuado por el set de entrenamiento con reemplazo y la respectiva perdida de ejemplos."
   ]
  },
  {
   "cell_type": "markdown",
   "metadata": {},
   "source": [
    "### Punto 3 - Bagging con librería\n",
    "\n",
    "En la celda 3, con la librería sklearn, entrenen un modelo bagging con 10 árboles de regresión y el parámetro `max_features` igual a `log(n_features)` y comenten sobre el desempeño del modelo."
   ]
  },
  {
   "cell_type": "code",
   "execution_count": 9,
   "metadata": {},
   "outputs": [
    {
     "name": "stdout",
     "output_type": "stream",
     "text": [
      "RMSE 2354.448602808742\n",
      "MAE 1827.342848084451\n"
     ]
    }
   ],
   "source": [
    "# Celda 3\n",
    "from sklearn.ensemble import BaggingRegressor\n",
    "\n",
    "n_features = data.shape[1]\n",
    "modelo = BaggingRegressor(n_estimators=10, random_state=0, max_features=int(math.log(n_features)))\n",
    "modelo.fit(X_train, y_train)\n",
    "y_pred = modelo.predict(X_test)\n",
    "\n",
    "print(\"RMSE\", math.sqrt(mean_squared_error(y_test, y_pred)))\n",
    "print(\"MAE\", mean_absolute_error(y_test, y_pred))"
   ]
  },
  {
   "cell_type": "markdown",
   "metadata": {},
   "source": [
    "El desempeno del BaggingRegressor es bastante superior, al obtener un MAE de 1827.342848084451 versus un MAE 2629.174937481449 para el arbol de decision manual y un MAE de para el baggin manual."
   ]
  },
  {
   "cell_type": "markdown",
   "metadata": {},
   "source": [
    "### Punto 4 - Random forest con librería\n",
    "\n",
    "En la celda 4, usando la librería sklearn entrenen un modelo de Randon Forest para regresión  y comenten sobre el desempeño del modelo."
   ]
  },
  {
   "cell_type": "code",
   "execution_count": 10,
   "metadata": {},
   "outputs": [
    {
     "name": "stdout",
     "output_type": "stream",
     "text": [
      "RMSE 1839.2750402754596\n",
      "MAE 1373.1188492292606\n"
     ]
    }
   ],
   "source": [
    "# Celda 4\n",
    "from sklearn.ensemble import RandomForestRegressor\n",
    "\n",
    "modelo = RandomForestRegressor(n_estimators=10, random_state=0, max_features=int(math.log(n_features)))\n",
    "modelo.fit(X_train, y_train)\n",
    "y_pred = modelo.predict(X_test)\n",
    "\n",
    "print(\"RMSE\", math.sqrt(mean_squared_error(y_test, y_pred)))\n",
    "print(\"MAE\", mean_absolute_error(y_test, y_pred))"
   ]
  },
  {
   "cell_type": "markdown",
   "metadata": {},
   "source": [
    "El desempeno del RandomForestRegressor es superior al BaggingRegressor al obtener un MAE de 1373.1188492292606 versus un MAE de 1827.342848084451, adicionalmente el RMSE 2354.448602808742 para BaggingRegressor es muy superior al RMSE 1839.2750402754596 del RandomForestRegressor. "
   ]
  },
  {
   "cell_type": "markdown",
   "metadata": {},
   "source": [
    "### Punto 5 - Calibración de parámetros Random forest\n",
    "\n",
    "En la celda 5, calibren los parámetros max_depth, max_features y n_estimators del modelo de Randon Forest para regresión, comenten sobre el desempeño del modelo y describan cómo cada parámetro afecta el desempeño del modelo."
   ]
  },
  {
   "cell_type": "code",
   "execution_count": 11,
   "metadata": {},
   "outputs": [
    {
     "name": "stdout",
     "output_type": "stream",
     "text": [
      "Min MAE 1150.969194664488\n",
      "Optimal depth 8\n"
     ]
    },
    {
     "data": {
      "image/png": "[encoded data removed]",
      "text/plain": [
       "<Figure size 640x480 with 1 Axes>"
      ]
     },
     "metadata": {},
     "output_type": "display_data"
    }
   ],
   "source": [
    "# Celda 5\n",
    "import matplotlib.pyplot as plt\n",
    "\n",
    "depth_range = range(1, 50)\n",
    "\n",
    "MAE_scores = []\n",
    "for depth in depth_range:\n",
    "    modelo = RandomForestRegressor(n_estimators=200, max_depth=depth, random_state=0, n_jobs=-1)\n",
    "    modelo.fit(X_train, y_train)\n",
    "    y_pred = modelo.predict(X_test)\n",
    "\n",
    "    MAE_scores.append(mean_absolute_error(y_test, y_pred))\n",
    "    \n",
    "# Gráfica del desempeño del modelo vs la cantidad de feature\n",
    "plt.plot(depth_range, MAE_scores)\n",
    "plt.xlabel('depth')\n",
    "plt.ylabel('MAE')\n",
    "\n",
    "print(\"Min MAE\", min(MAE_scores))\n",
    "print(\"Optimal depth\", depth_range[pd.Series(MAE_scores).idxmin()])"
   ]
  },
  {
   "cell_type": "code",
   "execution_count": 12,
   "metadata": {},
   "outputs": [
    {
     "name": "stdout",
     "output_type": "stream",
     "text": [
      "Min MAE 1308.231614952415\n",
      "Optimal features 9\n"
     ]
    },
    {
     "data": {
      "image/png": "[encoded data removed]",
      "text/plain": [
       "<Figure size 640x480 with 1 Axes>"
      ]
     },
     "metadata": {},
     "output_type": "display_data"
    }
   ],
   "source": [
    "feature_range = range(1, n_features)\n",
    "\n",
    "MAE_scores = []\n",
    "for feature in feature_range:\n",
    "    modelo = RandomForestRegressor(n_estimators=200, max_features=feature, random_state=0, n_jobs=-1)\n",
    "    modelo.fit(X_train, y_train)\n",
    "    y_pred = modelo.predict(X_test)\n",
    "\n",
    "    MAE_scores.append(mean_absolute_error(y_test, y_pred))\n",
    "    \n",
    "# Gráfica del desempeño del modelo vs la cantidad de feature\n",
    "plt.plot(feature_range, MAE_scores)\n",
    "plt.xlabel('feature')\n",
    "plt.ylabel('MAE')\n",
    "\n",
    "print(\"Min MAE\", min(MAE_scores))\n",
    "print(\"Optimal features\", feature_range[pd.Series(MAE_scores).idxmin()])"
   ]
  },
  {
   "cell_type": "code",
   "execution_count": 13,
   "metadata": {},
   "outputs": [
    {
     "name": "stdout",
     "output_type": "stream",
     "text": [
      "Min MAE 1307.003725608094\n",
      "Optimal estimator 130\n"
     ]
    },
    {
     "data": {
      "image/png": "[encoded data removed]",
      "text/plain": [
       "<Figure size 640x480 with 1 Axes>"
      ]
     },
     "metadata": {},
     "output_type": "display_data"
    }
   ],
   "source": [
    "estimator_range = range(10, 310, 10)\n",
    "\n",
    "MAE_scores = []\n",
    "for estimator in estimator_range:\n",
    "    modelo = RandomForestRegressor(n_estimators=estimator, random_state=0, n_jobs=-1)\n",
    "    modelo.fit(X_train, y_train)\n",
    "    y_pred = modelo.predict(X_test)\n",
    "\n",
    "    MAE_scores.append(mean_absolute_error(y_test, y_pred))\n",
    "    \n",
    "# Gráfica del desempeño del modelo vs la cantidad de n_estimators\n",
    "plt.plot(estimator_range, MAE_scores)\n",
    "plt.xlabel('n_estimators')\n",
    "plt.ylabel('MAE')\n",
    "\n",
    "print(\"Min MAE\", min(MAE_scores))\n",
    "print(\"Optimal estimator\", estimator_range[pd.Series(MAE_scores).idxmin()])"
   ]
  },
  {
   "cell_type": "code",
   "execution_count": 14,
   "metadata": {},
   "outputs": [
    {
     "name": "stdout",
     "output_type": "stream",
     "text": [
      "RMSE 1566.0559564550417\n",
      "MAE 1151.2730646974967\n"
     ]
    }
   ],
   "source": [
    "modelo = RandomForestRegressor(n_estimators=130, max_depth=8 ,random_state=0, max_features=9)\n",
    "modelo.fit(X_train, y_train)\n",
    "y_pred = modelo.predict(X_test)\n",
    "\n",
    "print(\"RMSE\", math.sqrt(mean_squared_error(y_test, y_pred)))\n",
    "print(\"MAE\", mean_absolute_error(y_test, y_pred))"
   ]
  },
  {
   "cell_type": "markdown",
   "metadata": {},
   "source": [
    "El desempeno del RandomForestRegressor con los hiperparametros optimos n_estimators, max_depth y max_features; es muy superior al desempeno de los arboles anteriores, obteniendo un RMSE 1566.0559564550417 y un MAE 1151.2730646974967, valores muy inferiores."
   ]
  },
  {
   "cell_type": "markdown",
   "metadata": {},
   "source": [
    "### Punto 6 - XGBoost con librería\n",
    "\n",
    "En la celda 6 implementen un modelo XGBoost de regresión con la librería sklearn y comenten sobre el desempeño del modelo."
   ]
  },
  {
   "cell_type": "code",
   "execution_count": 15,
   "metadata": {},
   "outputs": [
    {
     "name": "stdout",
     "output_type": "stream",
     "text": [
      "RMSE 1623.1341708729017\n",
      "MAE 1186.5738254749747\n"
     ]
    }
   ],
   "source": [
    "# Celda 6\n",
    "import xgboost as xg\n",
    "\n",
    "modelo = xg.XGBRegressor(objective='reg:squarederror', n_estimators=10, seed=0)\n",
    "modelo.fit(X_train, y_train)\n",
    "y_pred = modelo.predict(X_test)\n",
    "\n",
    "print(\"RMSE\", math.sqrt(mean_squared_error(y_test, y_pred)))\n",
    "print(\"MAE\", mean_absolute_error(y_test, y_pred))"
   ]
  },
  {
   "cell_type": "markdown",
   "metadata": {},
   "source": [
    "Los valores obtenidos para el RMSE y MAE con la implementacion XGBRegressor son muy similares a los obtenidos para el RandomForestRegressor, siendo en este punto, mucho mejor el resulado del algoritmo RandomForestRegressor con los parametros optimos, para lo cual se obtiene un RMSE 1566.0559564550417 y un MAE 1151.2730646974967 "
   ]
  },
  {
   "cell_type": "markdown",
   "metadata": {},
   "source": [
    "### Punto 7 - Calibración de parámetros XGBoost\n",
    "\n",
    "En la celda 7 calibren los parámetros learning rate, gamma y colsample_bytree del modelo XGBoost para regresión, comenten sobre el desempeño del modelo y describan cómo cada parámetro afecta el desempeño del modelo."
   ]
  },
  {
   "cell_type": "code",
   "execution_count": 16,
   "metadata": {
    "scrolled": true
   },
   "outputs": [
    {
     "name": "stdout",
     "output_type": "stream",
     "text": [
      "Min MAE 1142.8158660959152\n",
      "Optimal learning_rate 0.4\n"
     ]
    },
    {
     "data": {
      "image/png": "[encoded data removed]",
      "text/plain": [
       "<Figure size 640x480 with 1 Axes>"
      ]
     },
     "metadata": {},
     "output_type": "display_data"
    }
   ],
   "source": [
    "# Celda 7\n",
    "learning_rate_range = [0.0001, 0.001, 0.01, 0.1, 0.2, 0.3, 0.4, 0.5]\n",
    "\n",
    "MAE_scores = []\n",
    "for p_learning_rate in learning_rate_range:\n",
    "    modelo = xg.XGBRegressor(learning_rate=p_learning_rate, objective='reg:squarederror', n_estimators=10, seed=0)\n",
    "    modelo.fit(X_train, y_train)\n",
    "    y_pred = modelo.predict(X_test)\n",
    "\n",
    "    MAE_scores.append(mean_absolute_error(y_test, y_pred))\n",
    "    \n",
    "# Gráfica del desempeño del modelo vs la cantidad de feature\n",
    "plt.plot(learning_rate_range, MAE_scores)\n",
    "plt.xlabel('learning rate')\n",
    "plt.ylabel('MAE')\n",
    "\n",
    "print(\"Min MAE\", min(MAE_scores))\n",
    "print(\"Optimal learning_rate\", learning_rate_range[pd.Series(MAE_scores).idxmin()])"
   ]
  },
  {
   "cell_type": "code",
   "execution_count": 17,
   "metadata": {},
   "outputs": [
    {
     "name": "stdout",
     "output_type": "stream",
     "text": [
      "Min MAE 1186.5738254749747\n",
      "Optimal learning_rate 0\n"
     ]
    },
    {
     "data": {
      "image/png": "[encoded data removed]",
      "text/plain": [
       "<Figure size 640x480 with 1 Axes>"
      ]
     },
     "metadata": {},
     "output_type": "display_data"
    }
   ],
   "source": [
    "gamma_range = range(0, 100)\n",
    "\n",
    "MAE_scores = []\n",
    "for p_gamma in gamma_range:\n",
    "    modelo = xg.XGBRegressor(gamma=p_gamma, objective='reg:squarederror', n_estimators=10, seed=0)\n",
    "    modelo.fit(X_train, y_train)\n",
    "    y_pred = modelo.predict(X_test)\n",
    "\n",
    "    MAE_scores.append(mean_absolute_error(y_test, y_pred))\n",
    "    \n",
    "# Gráfica del desempeño del modelo vs la cantidad de feature\n",
    "plt.plot(gamma_range, MAE_scores)\n",
    "plt.xlabel('gamma_range rate')\n",
    "plt.ylabel('MAE')\n",
    "\n",
    "print(\"Min MAE\", min(MAE_scores))\n",
    "print(\"Optimal learning_rate\", gamma_range[pd.Series(MAE_scores).idxmin()])"
   ]
  },
  {
   "cell_type": "code",
   "execution_count": 18,
   "metadata": {},
   "outputs": [
    {
     "name": "stdout",
     "output_type": "stream",
     "text": [
      "Min MAE 1182.546630154581\n",
      "Optimal colsample_bytree 0.9\n"
     ]
    },
    {
     "data": {
      "image/png": "[encoded data removed]",
      "text/plain": [
       "<Figure size 640x480 with 1 Axes>"
      ]
     },
     "metadata": {},
     "output_type": "display_data"
    }
   ],
   "source": [
    "colsample_bytree_range = [x / 10 for x in range(0, 10, 1)]\n",
    "\n",
    "MAE_scores = []\n",
    "for p_colsample_bytree in colsample_bytree_range:\n",
    "    modelo = xg.XGBRegressor(colsample_bytree=p_colsample_bytree, objective='reg:squarederror', n_estimators=10, seed=0)\n",
    "    modelo.fit(X_train, y_train)\n",
    "    y_pred = modelo.predict(X_test)\n",
    "\n",
    "    MAE_scores.append(mean_absolute_error(y_test, y_pred))\n",
    "    \n",
    "# Gráfica del desempeño del modelo vs la cantidad de feature\n",
    "plt.plot(colsample_bytree_range, MAE_scores)\n",
    "plt.xlabel('learning rate')\n",
    "plt.ylabel('MAE')\n",
    "\n",
    "print(\"Min MAE\", min(MAE_scores))\n",
    "print(\"Optimal colsample_bytree\", colsample_bytree_range[pd.Series(MAE_scores).idxmin()])"
   ]
  },
  {
   "cell_type": "code",
   "execution_count": 19,
   "metadata": {},
   "outputs": [
    {
     "name": "stdout",
     "output_type": "stream",
     "text": [
      "RMSE 1555.5105859480598\n",
      "MAE 1139.9572426881857\n"
     ]
    }
   ],
   "source": [
    "modelo = xg.XGBRegressor(learning_rate=0.4, gamma=0, colsample_bytree=0.9, objective='reg:squarederror', n_estimators=10, seed=0)\n",
    "modelo.fit(X_train, y_train)\n",
    "y_pred = modelo.predict(X_test)\n",
    "\n",
    "print(\"RMSE\", math.sqrt(mean_squared_error(y_test, y_pred)))\n",
    "print(\"MAE\", mean_absolute_error(y_test, y_pred))"
   ]
  },
  {
   "cell_type": "markdown",
   "metadata": {},
   "source": [
    "En la celda 7, estámos calibrando el parámetro learning_rate del  modelo XGBoost para regresión. \n",
    "\n",
    "LearningRate:\n",
    "Probamos diferentes valores de learning_rate en el rango [0.0001, 0.001, 0.01, 0.1, 0.2, 0.3, 0.4, 0.5] y evaluando el rendimiento del modelo en términos del error absoluto medio (MAE) en el conjunto de prueba para cada valor de learning_rate.\n",
    "Después de probar todos los valores de learning_rate, graficamos el MAE en función del learning_rate y mostranos el valor mínimo de MAE  y el valor óptimo de learning_rate que produce el menor MAE se encuentra en 0.4.\n",
    "Este parámetro controla el tamaño de los pasos que toma el algoritmo al actualizar los pesos del modelo. Un valor más bajo puede hacer que el modelo sea más robusto a la sobreajuste, pero también puede hacer que el entrenamiento sea más lento.\n",
    "\n",
    "El gamma controla la complejidad del modelo al regular la reducción de pérdida requerida para dividir un nodo en un árbol. \n",
    "En el código se itera sobre un rango de valores gamma y ajusta el modelo con cada valor de gamma. \n",
    "Luego, se utiliza el modelo para predecir los valores en el conjunto de prueba y calcula el MAE para cada valor de gamma. \n",
    "Finalmente, se grafica el desempeño del modelo (MAE) en función del valor de gamma y se imprime el valor óptimo de gamma que minimiza el MAE.\n",
    "Se observa que el valor óptimo del gamma es de cero.\n",
    "\n",
    "El parámetro colsample_bytree controla la fracción de columnas que se muestrea al construir cada árbol. \n",
    "El código itera sobre un rango de valores para colsample_bytree y ajusta el modelo con cada valor. el valor optimo es de 0.9\n",
    "\n",
    "Los valores obtenidos para el algoritmo XGBoost fueron RMSE 1623.1341708729017, MAE 1186.5738254749747; valores superiores a los obtenidos en la ejecucion del algoritmo con los mejores hiperparametros learning_rate, gamma, colsample_bytree, valores que corresponden a RMSE 1555.5105859480598 y MAE 1139.9572426881857."
   ]
  },
  {
   "cell_type": "markdown",
   "metadata": {},
   "source": [
    "### Punto 8 - Comparación y análisis de resultados\n",
    "En la celda 8 comparen los resultados obtenidos de los diferentes modelos (random forest y XGBoost) y comenten las ventajas del mejor modelo y las desventajas del modelo con el menor desempeño."
   ]
  },
  {
   "cell_type": "markdown",
   "metadata": {},
   "source": [
    "### Celda 8\n",
    "Los valores obtenidos para el algoritmo de RandomForest con los hiperparametros optimos son muy similares a los obtenidos para el XGBoost con los parametros calibrados. Estos son  RMSE 1566.0559564550417 y MAE 1151.2730646974967 para RandomForest versus RMSE 1555.5105859480598 y MAE 1139.9572426881857 para XGBoost respectivamente.\n",
    "\n",
    "El MAE del XGBoost es inferior en 12 unidades en comparacion con el MAE del RandomForest, por lo cual el rendimiento de ambos algoritmos calibrados es casi igual."
   ]
  },
  {
   "cell_type": "code",
   "execution_count": null,
   "metadata": {},
   "outputs": [],
   "source": []
  }
 ],
 "metadata": {
  "kernelspec": {
   "display_name": "Python 3 (ipykernel)",
   "language": "python",
   "name": "python3"
  },
  "language_info": {
   "codemirror_mode": {
    "name": "ipython",
    "version": 3
   },
   "file_extension": ".py",
   "mimetype": "text/x-python",
   "name": "python",
   "nbconvert_exporter": "python",
   "pygments_lexer": "ipython3",
   "version": "3.9.13"
  }
 },
 "nbformat": 4,
 "nbformat_minor": 4
}
